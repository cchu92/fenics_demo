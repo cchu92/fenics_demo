{
 "cells": [
  {
   "cell_type": "code",
   "execution_count": 7,
   "metadata": {},
   "outputs": [],
   "source": [
    "from fenics import *\n",
    "import numpy as np\n",
    "\n",
    "#\n",
    "path  = \"/Users/1321143263qq.com/Dropbox/ScientificProject/1PaperProject/2023/Cassini_oval/results/fem_solutions/full_geo_degin/save_xml_mesh_case2\"\n",
    "mesh = Mesh(path+\"/mesh13.xml\");\n",
    "coordinates = mesh.coordinates()\n",
    "x_min, y_min = np.amin(coordinates, axis=0)[:2]\n",
    "x_max, y_max = np.amax(coordinates, axis=0)[:2]"
   ]
  },
  {
   "cell_type": "code",
   "execution_count": 9,
   "metadata": {},
   "outputs": [],
   "source": [
    "V = VectorFunctionSpace(mesh, 'P', 1)\n",
    "# Define boundary conditions\n",
    "tol = 1E-14\n",
    "# Define boundary conditions\n",
    "def left_boundary(x, on_boundary):\n",
    "    return on_boundary and abs(x[0] - x_min) < DOLFIN_EPS\n",
    "def right_boundary(x, on_boundary):\n",
    "    return on_boundary and abs(x[0] - x_max) < DOLFIN_EPS\n",
    "def upper_right_corner(x, on_boundary):\n",
    "    return near(x[0], x_max) and near(x[1], y_max)\n",
    "def top_boundary(x, on_boundary):\n",
    "    return on_boundary and abs(x[1] - y_max) < DOLFIN_EPS and x[0] > x_max - 200\n",
    "def bottom_boundary(x, on_boundary):\n",
    "    return on_boundary and abs(x[1] - y_min) < DOLFIN_EPS\n",
    "B = Constant((0.0, 0.5))  # Body force per unit volume\n",
    "T = Constant((10,  0.0))  # Traction force on the boundary"
   ]
  },
  {
   "attachments": {},
   "cell_type": "markdown",
   "metadata": {},
   "source": [
    "# Define the Dirichlet boundary and Neumann boundary\n",
    "\n"
   ]
  },
  {
   "cell_type": "code",
   "execution_count": 17,
   "metadata": {},
   "outputs": [],
   "source": [
    "# Dirichlet boundary \n",
    "bc_left = DirichletBC(V, Constant((0.0, 0.0)), left_boundary) # fixed left boundary\n",
    "\n",
    "# Neumann boundary, measure ds_right on right_boundary\n",
    "boundary_markers = MeshFunction(\"size_t\", mesh, mesh.topology().dim() - 1)\n",
    "boundary_markers.set_all(0)  # Initialize with default value 0\n",
    "right_ = AutoSubDomain(lambda x, on_boundary: near(x[0], x_max) and on_boundary)\n",
    "right_.mark(boundary_markers, 1)# Mark facets on right boundary with 1\n",
    "ds_right = Measure('ds', domain=mesh, subdomain_data=boundary_markers, subdomain_id=1)\n",
    "\n"
   ]
  },
  {
   "cell_type": "code",
   "execution_count": 13,
   "metadata": {},
   "outputs": [
    {
     "data": {
      "text/plain": [
       "<dolfin.fem.dirichletbc.AutoSubDomain at 0x7fa3210dc810>"
      ]
     },
     "execution_count": 13,
     "metadata": {},
     "output_type": "execute_result"
    }
   ],
   "source": [
    "right_bndry"
   ]
  }
 ],
 "metadata": {
  "kernelspec": {
   "display_name": "fenicsproject",
   "language": "python",
   "name": "python3"
  },
  "language_info": {
   "codemirror_mode": {
    "name": "ipython",
    "version": 3
   },
   "file_extension": ".py",
   "mimetype": "text/x-python",
   "name": "python",
   "nbconvert_exporter": "python",
   "pygments_lexer": "ipython3",
   "version": "3.8.16"
  },
  "orig_nbformat": 4
 },
 "nbformat": 4,
 "nbformat_minor": 2
}
